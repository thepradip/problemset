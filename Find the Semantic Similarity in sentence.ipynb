{
 "cells": [
  {
   "cell_type": "code",
   "execution_count": 63,
   "metadata": {},
   "outputs": [],
   "source": [
    "import spacy\n",
    "nlp = spacy.load('en_core_web_md')\n"
   ]
  },
  {
   "cell_type": "code",
   "execution_count": 64,
   "metadata": {},
   "outputs": [],
   "source": [
    "tests = [lines.strip() for lines in open('list_of_sentences', 'r').readlines()]\n"
   ]
  },
  {
   "cell_type": "code",
   "execution_count": 65,
   "metadata": {},
   "outputs": [
    {
     "data": {
      "text/plain": [
       "['good morning',\n",
       " 'how are you doing ?',\n",
       " 'the weather is awesome today',\n",
       " 'samsung',\n",
       " 'good afternoon',\n",
       " 'baseball is played in the USA',\n",
       " 'there is a thunderstorm',\n",
       " 'are you doing good ?',\n",
       " 'The polar regions are melting\"',\n",
       " 'apple',\n",
       " 'nokia',\n",
       " 'cricket is a fun game',\n",
       " 'the climate change is a problem']"
      ]
     },
     "execution_count": 65,
     "metadata": {},
     "output_type": "execute_result"
    }
   ],
   "source": [
    "tests"
   ]
  },
  {
   "cell_type": "code",
   "execution_count": 66,
   "metadata": {},
   "outputs": [],
   "source": [
    "# tests =[\"good morning\",\n",
    "# \"how are you doing ?\",\n",
    "# \"the weather is awesome today\",\n",
    "# 'samsung',\n",
    "# 'good afternoon',\n",
    "# 'baseball is played in the USA',\n",
    "# 'there is a thunderstorm', \n",
    "# 'are you doing good ?',\n",
    "# 'The polar regions are melting',\n",
    "# 'apple',\n",
    "# 'nokia',\n",
    "# 'cricket is a fun game',\n",
    "# 'the climate change is a problem']\n",
    "# texts =[\"Football is played in Brazil\" , \"Cricket is played in India\",\n",
    "#        \"Traveling is good for health\", \"People love traveling in winter\"]\n",
    "# len(texts)\n",
    "# print(len(tests))"
   ]
  },
  {
   "cell_type": "code",
   "execution_count": 67,
   "metadata": {},
   "outputs": [
    {
     "name": "stdout",
     "output_type": "stream",
     "text": [
      "[good morning, the weather is awesome today]\n",
      "[how are you doing ?, the weather is awesome today]\n"
     ]
    }
   ],
   "source": [
    "# for i in range(len(texts)):\n",
    "#     j=i+1\n",
    "#     for j in range(j,len(texts)):\n",
    "#         doc1 =nlp(tests[i])\n",
    "#         doc2 =nlp(tests[j])\n",
    "#         if doc1.similarity(doc2)> 0.7:\n",
    "#             print(\"[\"+tests[i]+\",\",tests[j]+\"]\")"
   ]
  },
  {
   "cell_type": "code",
   "execution_count": 68,
   "metadata": {},
   "outputs": [],
   "source": [
    "def similarityof(tests):\n",
    "    for i in range(len(texts)):\n",
    "        j=i+1\n",
    "        for j in range(j,len(texts)):\n",
    "            doc1 =nlp(tests[i])\n",
    "            doc2 =nlp(tests[j])\n",
    "            if doc1.similarity(doc2)> 0.7:\n",
    "                print(\"[\"+tests[i]+\",\",tests[j]+\"]\")\n",
    "    "
   ]
  },
  {
   "cell_type": "code",
   "execution_count": 69,
   "metadata": {},
   "outputs": [
    {
     "name": "stdout",
     "output_type": "stream",
     "text": [
      "[good morning, the weather is awesome today]\n",
      "[how are you doing ?, the weather is awesome today]\n"
     ]
    }
   ],
   "source": [
    "similarityof(tests)"
   ]
  },
  {
   "cell_type": "code",
   "execution_count": null,
   "metadata": {},
   "outputs": [],
   "source": []
  }
 ],
 "metadata": {
  "kernelspec": {
   "display_name": "Python 3",
   "language": "python",
   "name": "python3"
  },
  "language_info": {
   "codemirror_mode": {
    "name": "ipython",
    "version": 3
   },
   "file_extension": ".py",
   "mimetype": "text/x-python",
   "name": "python",
   "nbconvert_exporter": "python",
   "pygments_lexer": "ipython3",
   "version": "3.7.4"
  }
 },
 "nbformat": 4,
 "nbformat_minor": 2
}
